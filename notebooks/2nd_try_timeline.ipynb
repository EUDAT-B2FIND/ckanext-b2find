{
 "cells": [
  {
   "cell_type": "code",
   "execution_count": null,
   "id": "40fa5918-2d3f-45f3-aa26-fcaf22d1533b",
   "metadata": {},
   "outputs": [],
   "source": [
    "import requests\n",
    "import pandas as pd"
   ]
  },
  {
   "cell_type": "code",
   "execution_count": null,
   "id": "47f47fc9-dd0f-4347-88f6-5a52c2be9174",
   "metadata": {},
   "outputs": [],
   "source": [
    "base_url=\"http://b2find.eudat.eu/solr/select?echoParams=none&rows=0&wt=json&q=*&facet=false&fq={fq}\""
   ]
  },
  {
   "cell_type": "code",
   "execution_count": null,
   "id": "3e15d3c1-ef5a-44b9-b560-080663b39aff",
   "metadata": {},
   "outputs": [],
   "source": [
    "query = 'extras_TempCoverageBegin:[* TO {end}] AND extras_TempCoverageEnd:[{start} TO *]'\n"
   ]
  },
  {
   "cell_type": "code",
   "execution_count": null,
   "id": "0cf7bd45-c0ac-4aa1-a23c-1d4b3bcc74ac",
   "metadata": {},
   "outputs": [],
   "source": [
    "\n",
    "# fq=query.format(start='1900-01-01T00:00:00Z', end='2021-01-01T00:00:00Z')\n",
    "min=0\n",
    "max=320000000000\n",
    "num_intervals=50\n",
    "interval=int((max-min)/num_intervals)"
   ]
  },
  {
   "cell_type": "code",
   "execution_count": null,
   "id": "28aa25b1-af8d-480f-998e-ba51aef65c0b",
   "metadata": {},
   "outputs": [],
   "source": [
    "import time\n",
    "run_start = time.time()\n",
    "\n",
    "x = []\n",
    "y = []\n",
    "\n",
    "for i in range(num_intervals):\n",
    "    start = int(min + i * interval)\n",
    "    end = int(min + (i+1) * interval)\n",
    "    # print(start, end, interval)\n",
    "    fq = query.format(start=start, end=end)\n",
    "    url = base_url.format(fq=fq)\n",
    "    resp = requests.get(url)\n",
    "    if resp.ok:\n",
    "        num_found = resp.json()['response']['numFound']\n",
    "        x.append(start)\n",
    "        y.append(num_found)\n",
    "    else:\n",
    "        print(\"Failed\")\n",
    "        \n",
    "run_end = time.time() - run_start\n",
    "run_end"
   ]
  },
  {
   "cell_type": "code",
   "execution_count": null,
   "id": "ff94d821-1edb-44f1-8c13-a9ad7443005e",
   "metadata": {},
   "outputs": [],
   "source": [
    "df = pd.DataFrame(list(zip(x, y)),\n",
    "               columns =['start', 'counts'])\n",
    "df"
   ]
  },
  {
   "cell_type": "code",
   "execution_count": null,
   "id": "0a6475b4-ef9e-4b64-9cad-bfe1388a9d72",
   "metadata": {},
   "outputs": [],
   "source": [
    "df[\"start\"]=pd.to_datetime(df[\"start\"],unit=\"ms\")\n",
    "df"
   ]
  },
  {
   "cell_type": "code",
   "execution_count": null,
   "id": "def13b41-6032-4e56-a988-2483a1782c13",
   "metadata": {},
   "outputs": [],
   "source": [
    "from bokeh.io import show\n",
    "from bokeh.layouts import column\n",
    "from bokeh.models import ColumnDataSource, RangeTool\n",
    "from bokeh.plotting import figure\n",
    "\n",
    "source = ColumnDataSource(df)\n",
    "\n",
    "p = figure(plot_height=300, plot_width=800, tools=\"xpan\", toolbar_location=None,\n",
    "           x_axis_type=\"datetime\", x_axis_location=\"above\",\n",
    "           background_fill_color=\"#efefef\", x_range=(df.start.loc[10], df.start.loc[20]))\n",
    "\n",
    "p.line('start', 'counts', source=source)\n",
    "p.yaxis.axis_label = 'datasets'\n",
    "\n",
    "select = figure(title=\"Drag the middle and edges of the selection box to change the range above\",\n",
    "                plot_height=130, plot_width=800, y_range=p.y_range,\n",
    "                x_axis_type=\"datetime\", y_axis_type=None,\n",
    "                tools=\"\", toolbar_location=None, background_fill_color=\"#efefef\")\n",
    "\n",
    "range_tool = RangeTool(x_range=p.x_range)\n",
    "range_tool.overlay.fill_color = \"navy\"\n",
    "range_tool.overlay.fill_alpha = 0.2\n",
    "\n",
    "select.line('start', 'counts', source=source)\n",
    "select.ygrid.grid_line_color = None\n",
    "select.add_tools(range_tool)\n",
    "select.toolbar.active_multi = range_tool\n",
    "\n",
    "show(column(p, select))"
   ]
  }
 ],
 "metadata": {
  "kernelspec": {
   "display_name": "Python 3 (ipykernel)",
   "language": "python",
   "name": "python3"
  },
  "language_info": {
   "codemirror_mode": {
    "name": "ipython",
    "version": 3
   },
   "file_extension": ".py",
   "mimetype": "text/x-python",
   "name": "python",
   "nbconvert_exporter": "python",
   "pygments_lexer": "ipython3",
   "version": "3.9.6"
  }
 },
 "nbformat": 4,
 "nbformat_minor": 5
}
