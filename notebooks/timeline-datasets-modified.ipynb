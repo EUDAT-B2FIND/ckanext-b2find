{
 "cells": [
  {
   "cell_type": "code",
   "execution_count": null,
   "id": "1c8370be-07c7-4283-bbd4-6e378305f716",
   "metadata": {},
   "outputs": [],
   "source": [
    "import requests\n",
    "import pandas as pd"
   ]
  },
  {
   "cell_type": "code",
   "execution_count": null,
   "id": "2597d272-a972-4b92-a259-416fbae646f8",
   "metadata": {},
   "outputs": [],
   "source": [
    "url = \"http://b2find.eudat.eu/solr/select\"\n"
   ]
  },
  {
   "cell_type": "code",
   "execution_count": null,
   "id": "207b6f09-93ed-4250-bcde-0d9f43291b4e",
   "metadata": {},
   "outputs": [],
   "source": [
    "solr_params = {\n",
    "    'echoParams': 'none',\n",
    "    'rows': 0,\n",
    "    'wt': 'json',\n",
    "    'q': '*',\n",
    "    'facet': 'true',\n",
    "    'facet.sort': 'index',\n",
    "    'facet.limit': -1,\n",
    "    #'fq': '*',\n",
    "    'indent': 'false',\n",
    "    # 'facet.field': ['metadata_modified'],\n",
    "    'facet.range':['metadata_modified'],\n",
    "    'f.metadata_modified.facet.range.start': 'NOW/DAY-100DAYS',\n",
    "    'f.metadata_modified.facet.range.end': 'NOW/DAY+1DAYS',\n",
    "    'f.metadata_modified.facet.range.gap': '+1DAY',\n",
    "    #'group': 'false',\n",
    "    #'group.limit': 1,\n",
    "    #'group.query': []\n",
    "}"
   ]
  },
  {
   "cell_type": "code",
   "execution_count": null,
   "id": "fc2dd06c-1236-4f07-9a29-86bb9e3aa671",
   "metadata": {},
   "outputs": [],
   "source": [
    "import time\n",
    "run_start = time.time()\n",
    "\n",
    "resp = requests.post(url, data=solr_params)\n",
    "run_end = time.time() - run_start\n",
    "print(resp.ok, run_end)"
   ]
  },
  {
   "cell_type": "code",
   "execution_count": null,
   "id": "d540924c-3845-4966-90df-18c62f113ba0",
   "metadata": {},
   "outputs": [],
   "source": [
    "result = resp.json()\n",
    "result = result[\"facet_counts\"][\"facet_ranges\"][\"metadata_modified\"][\"counts\"]\n",
    "x = result[0::2]\n",
    "y = result[1::2]"
   ]
  },
  {
   "cell_type": "code",
   "execution_count": null,
   "id": "d3860ae7-4cdd-46ea-a2d8-24ae0d1667ad",
   "metadata": {},
   "outputs": [],
   "source": [
    "df = pd.DataFrame(list(zip(x, y)),\n",
    "               columns =['start', 'counts'])\n",
    "df"
   ]
  },
  {
   "cell_type": "code",
   "execution_count": null,
   "id": "2b4e0d4f-330d-4e3e-82b8-5081ec3001e1",
   "metadata": {},
   "outputs": [],
   "source": [
    "df[\"start\"]=pd.to_datetime(df[\"start\"])\n",
    "df"
   ]
  },
  {
   "cell_type": "code",
   "execution_count": null,
   "id": "7e1f5e49-4717-4368-a143-755f46a18d7d",
   "metadata": {},
   "outputs": [],
   "source": [
    "from bokeh.io import show\n",
    "from bokeh.layouts import column\n",
    "from bokeh.models import ColumnDataSource, RangeTool\n",
    "from bokeh.plotting import figure\n",
    "\n",
    "source = ColumnDataSource(df)\n",
    "\n",
    "p = figure(plot_height=300, plot_width=800, tools=\"xpan\", toolbar_location=None,\n",
    "           x_axis_type=\"datetime\", x_axis_location=\"above\",\n",
    "           background_fill_color=\"#efefef\", x_range=(df.start.loc[10], df.start.loc[20]))\n",
    "\n",
    "p.line('start', 'counts', source=source)\n",
    "p.yaxis.axis_label = 'datasets'\n",
    "\n",
    "select = figure(title=\"Drag the middle and edges of the selection box to change the range above\",\n",
    "                plot_height=130, plot_width=800, y_range=p.y_range,\n",
    "                x_axis_type=\"datetime\", y_axis_type=None,\n",
    "                tools=\"\", toolbar_location=None, background_fill_color=\"#efefef\")\n",
    "\n",
    "range_tool = RangeTool(x_range=p.x_range)\n",
    "range_tool.overlay.fill_color = \"navy\"\n",
    "range_tool.overlay.fill_alpha = 0.2\n",
    "\n",
    "select.line('start', 'counts', source=source)\n",
    "select.ygrid.grid_line_color = None\n",
    "select.add_tools(range_tool)\n",
    "select.toolbar.active_multi = range_tool\n",
    "\n",
    "show(column(p, select))"
   ]
  },
  {
   "cell_type": "code",
   "execution_count": null,
   "id": "df2ba825-9d68-470e-8402-d0e751dc9ae2",
   "metadata": {},
   "outputs": [],
   "source": []
  }
 ],
 "metadata": {
  "kernelspec": {
   "display_name": "Python 3 (ipykernel)",
   "language": "python",
   "name": "python3"
  },
  "language_info": {
   "codemirror_mode": {
    "name": "ipython",
    "version": 3
   },
   "file_extension": ".py",
   "mimetype": "text/x-python",
   "name": "python",
   "nbconvert_exporter": "python",
   "pygments_lexer": "ipython3",
   "version": "3.9.6"
  }
 },
 "nbformat": 4,
 "nbformat_minor": 5
}
