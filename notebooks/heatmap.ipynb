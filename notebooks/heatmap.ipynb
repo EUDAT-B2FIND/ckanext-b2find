{
 "cells": [
  {
   "cell_type": "code",
   "execution_count": null,
   "id": "f4085cb0-51ff-4edd-8d5a-262da200e5ed",
   "metadata": {},
   "outputs": [],
   "source": [
    "import pandas as pd\n",
    "import pysolr"
   ]
  },
  {
   "cell_type": "code",
   "execution_count": null,
   "id": "219c7af5-3373-4fdc-9e4d-406aba346a7c",
   "metadata": {},
   "outputs": [],
   "source": [
    "url = \"http://b2find.eudat.eu/solr\"\n",
    "# url = \"http://localhost:8983/solr/ckan\"\n",
    "\n",
    "solr = pysolr.Solr(url)"
   ]
  },
  {
   "cell_type": "code",
   "execution_count": null,
   "id": "d48eca33-f3d7-40e1-b482-438a1fc02c39",
   "metadata": {},
   "outputs": [],
   "source": [
    "facet = \"extras_spatial\"\n",
    "\n",
    "solr_params = {\n",
    "    'echoParams': 'none',\n",
    "    'rows': 0,\n",
    "    'wt': 'json',\n",
    "    'q': '*',\n",
    "    'facet': 'true',\n",
    "    'facet.limit': 100000,\n",
    "    'facet.mincount': 1,\n",
    "    'facet.sort': 'count',\n",
    "    'facet.field': [facet]\n",
    "}"
   ]
  },
  {
   "cell_type": "code",
   "execution_count": null,
   "id": "17a826da-5458-4c87-bab5-0573df5a1f1d",
   "metadata": {},
   "outputs": [],
   "source": [
    "results = solr.search(**solr_params)"
   ]
  },
  {
   "cell_type": "code",
   "execution_count": null,
   "id": "a1b873dc-3524-423f-a2cb-24fc437f37c9",
   "metadata": {},
   "outputs": [],
   "source": [
    "# results.facets['facet_fields'][facet]"
   ]
  },
  {
   "cell_type": "code",
   "execution_count": null,
   "id": "eecb5535-4d68-4f23-8200-2260e5c4874c",
   "metadata": {},
   "outputs": [],
   "source": [
    "result_counts = results.facets[\"facet_fields\"][facet]\n",
    "geom = result_counts[0::2]\n",
    "counts = result_counts[1::2]"
   ]
  },
  {
   "cell_type": "code",
   "execution_count": null,
   "id": "7a149a49-6100-4dd9-9215-25bf0c48e747",
   "metadata": {},
   "outputs": [],
   "source": [
    "import geopandas\n",
    "from shapely.geometry import shape\n",
    "import json"
   ]
  },
  {
   "cell_type": "code",
   "execution_count": null,
   "id": "12bd1074-8525-4c04-a01a-f9cbb0a68e0a",
   "metadata": {},
   "outputs": [],
   "source": [
    "geometry = [shape(json.loads(i)).buffer(1) for i in geom]\n",
    "gdf = geopandas.GeoDataFrame(list(zip(geometry, counts)), columns =['geometry', 'counts'], geometry=\"geometry\")\n",
    "gdf\n"
   ]
  },
  {
   "cell_type": "code",
   "execution_count": null,
   "id": "60ef689d-ef9a-4262-a6a4-805a01854465",
   "metadata": {},
   "outputs": [],
   "source": [
    "gdf['centroid'] = gdf.centroid\n",
    "gdf['x'] = gdf.centroid.x\n",
    "gdf['y'] = gdf.centroid.y\n",
    "gdf"
   ]
  },
  {
   "cell_type": "code",
   "execution_count": null,
   "id": "76bc72e2-4473-46cd-9370-71efec63c9e5",
   "metadata": {},
   "outputs": [],
   "source": [
    "import datashader as ds\n",
    "import colorcet as cc\n",
    "cvs = ds.Canvas(plot_width=850, plot_height=500)\n",
    "agg = cvs.points(gdf, x=\"x\", y=\"y\", agg=ds.sum(\"counts\"))\n",
    "img = ds.tf.shade(agg, cmap=cc.fire, how=\"log\")\n",
    "img"
   ]
  },
  {
   "cell_type": "markdown",
   "id": "da7e08c1-15f8-407f-b067-519fd5830454",
   "metadata": {},
   "source": []
  },
  {
   "cell_type": "code",
   "execution_count": null,
   "id": "7da20b22-5995-430d-8fcf-d094f79d624d",
   "metadata": {},
   "outputs": [],
   "source": [
    "import holoviews as hv\n",
    "from holoviews.element.tiles import OSM, StamenTerrain\n",
    "from cartopy import crs\n",
    "from holoviews.operation.datashader import datashade\n",
    "hv.extension('bokeh')\n",
    "\n",
    "df = pd.DataFrame()\n",
    "df[\"x\"] = gdf.x*100000\n",
    "df[\"y\"] = gdf.y*140000\n",
    "\n",
    "map_tiles  = OSM().opts(width=850, height=500, alpha=0.7, projection=crs.WGS84_SEMIMAJOR_AXIS)\n",
    "points     = hv.Points(df, kdims=[\"x\", \"y\"])\n",
    "locations = datashade(points, x_sampling=1, y_sampling=1, cmap=cc.fire, width=850, height=500, \n",
    "                      cnorm=\"log\", \n",
    "                      alpha=200,\n",
    "                     )\n",
    "\n",
    "map_tiles * locations"
   ]
  }
 ],
 "metadata": {
  "kernelspec": {
   "display_name": "Python 3 (ipykernel)",
   "language": "python",
   "name": "python3"
  },
  "language_info": {
   "codemirror_mode": {
    "name": "ipython",
    "version": 3
   },
   "file_extension": ".py",
   "mimetype": "text/x-python",
   "name": "python",
   "nbconvert_exporter": "python",
   "pygments_lexer": "ipython3",
   "version": "3.9.6"
  }
 },
 "nbformat": 4,
 "nbformat_minor": 5
}
