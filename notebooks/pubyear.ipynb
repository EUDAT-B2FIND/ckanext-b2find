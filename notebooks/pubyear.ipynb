{
 "cells": [
  {
   "cell_type": "code",
   "execution_count": null,
   "id": "86739bec-168f-4d74-9210-2bbdbbf616e6",
   "metadata": {},
   "outputs": [],
   "source": [
    "import pandas as pd\n",
    "import pysolr\n"
   ]
  },
  {
   "cell_type": "code",
   "execution_count": null,
   "id": "f06ae762-b7f7-4370-b9be-b5816ea5a408",
   "metadata": {},
   "outputs": [],
   "source": [
    "# url = \"http://b2find.eudat.eu/solr/select\"\n",
    "url = \"http://localhost:8983/solr/ckan\"\n"
   ]
  },
  {
   "cell_type": "code",
   "execution_count": null,
   "id": "3dacab37-032e-45d4-878e-69c6b3c7b143",
   "metadata": {},
   "outputs": [],
   "source": [
    "facet = \"extras_PublicationYear\"\n",
    "\n",
    "solr_params = {\n",
    "    'echoParams': 'none',\n",
    "    'rows': 1,\n",
    "    'wt': 'json',\n",
    "    'q': '*',\n",
    "    'fq': f\"{facet}:[2000 TO 2010]\",\n",
    "    'facet': 'true',\n",
    "    'facet.sort': 'index',\n",
    "    'facet.limit': -1,\n",
    "    'facet.field': [facet],\n",
    "}"
   ]
  },
  {
   "cell_type": "code",
   "execution_count": null,
   "id": "b69080cc-81b8-48f2-b260-dbfde84fdba7",
   "metadata": {},
   "outputs": [],
   "source": [
    "solr = pysolr.Solr(url)"
   ]
  },
  {
   "cell_type": "code",
   "execution_count": null,
   "id": "c6ad08a6-6d3e-4df8-9bdc-015bfbe2b99d",
   "metadata": {},
   "outputs": [],
   "source": [
    "results = solr.search(**solr_params)\n"
   ]
  },
  {
   "cell_type": "code",
   "execution_count": null,
   "id": "ce111040-a17e-4449-9589-7ab28763c718",
   "metadata": {},
   "outputs": [],
   "source": [
    "# results.raw_response"
   ]
  },
  {
   "cell_type": "code",
   "execution_count": null,
   "id": "a32666e4-6105-431b-8e43-cb1460ba1e6b",
   "metadata": {},
   "outputs": [],
   "source": [
    "#results.facets"
   ]
  },
  {
   "cell_type": "code",
   "execution_count": null,
   "id": "cb626686-a738-4abc-82eb-1b4738424fac",
   "metadata": {},
   "outputs": [],
   "source": [
    "result_counts = results.facets[\"facet_fields\"][facet]\n",
    "x = result_counts[0::2]\n",
    "y = result_counts[1::2]"
   ]
  },
  {
   "cell_type": "code",
   "execution_count": null,
   "id": "3b7f39bb-7c48-43b7-89b3-ecb589247400",
   "metadata": {},
   "outputs": [],
   "source": [
    "# skip zero counts at the start and end\n",
    "start = list(map(lambda val: val > 0, y)).index(True)\n",
    "end = list(map(lambda val: val > 0, reversed(y))).index(True)\n",
    "end = len(y) - end\n",
    "\n",
    "x = x[start:end]\n",
    "y = y[start:end]"
   ]
  },
  {
   "cell_type": "code",
   "execution_count": null,
   "id": "b8977940-72d9-440a-b550-c152ca121b78",
   "metadata": {},
   "outputs": [],
   "source": [
    "df = pd.DataFrame(list(zip(x, y)), columns =['year', 'counts'])\n",
    "df[\"year\"]=pd.to_numeric(df[\"year\"], downcast=\"signed\")\n",
    "df"
   ]
  },
  {
   "cell_type": "code",
   "execution_count": null,
   "id": "1d673797-8225-43e8-94ed-fb719a766c4d",
   "metadata": {},
   "outputs": [],
   "source": [
    "from bokeh.io import show\n",
    "from bokeh.models import CustomJS, RangeSlider\n",
    "\n",
    "\n",
    "callback = CustomJS(code=\"\"\"\n",
    "    console.log('date_range_slider: value=' + this.value, this.toString())\n",
    "\"\"\")\n",
    "start=df.year[0]\n",
    "end=df.year[len(df)-1]\n",
    "if start == end:\n",
    "    end = start + 1\n",
    "date_range_slider = RangeSlider(\n",
    "        title=\"Publication Year\",\n",
    "        value=(start, end),\n",
    "        start=start, \n",
    "        end=end,\n",
    ")\n",
    "\n",
    "date_range_slider.js_on_change(\"value_throttled\", callback)\n",
    "\n",
    "show(date_range_slider)"
   ]
  }
 ],
 "metadata": {
  "kernelspec": {
   "display_name": "Python 3",
   "language": "python",
   "name": "python3"
  },
  "language_info": {
   "codemirror_mode": {
    "name": "ipython",
    "version": 3
   },
   "file_extension": ".py",
   "mimetype": "text/x-python",
   "name": "python",
   "nbconvert_exporter": "python",
   "pygments_lexer": "ipython3",
   "version": "3.6.13"
  }
 },
 "nbformat": 4,
 "nbformat_minor": 5
}
