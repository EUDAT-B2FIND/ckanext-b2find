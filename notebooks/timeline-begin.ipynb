{
 "cells": [
  {
   "cell_type": "code",
   "execution_count": null,
   "id": "225804e0-ad37-4ea5-a44a-92b0c5732d46",
   "metadata": {},
   "outputs": [],
   "source": [
    "import pysolr\n",
    "import pandas as pd"
   ]
  },
  {
   "cell_type": "code",
   "execution_count": null,
   "id": "6c4ce2f1-74c9-4609-9757-5ad9b80a97a1",
   "metadata": {},
   "outputs": [],
   "source": [
    "# url = \"http://localhost:8983/solr/ckan\"\n",
    "url = \"http://b2find.eudat.eu/solr\""
   ]
  },
  {
   "cell_type": "code",
   "execution_count": null,
   "id": "b22d4b8f-26ac-4ec3-b1a1-cc62fd975210",
   "metadata": {},
   "outputs": [],
   "source": [
    "facet = \"extras_TempCoverage\"\n",
    "\n",
    "solr_params = {\n",
    "    'echoParams': 'none',\n",
    "    'rows': 0,\n",
    "    'wt': 'json',\n",
    "    'q': '*',\n",
    "     #'fq': \"extras_TemporalCoverage:Begin\",\n",
    "    'fl': \"extras_TemporalCoverageBeginDate\",\n",
    "    'indent': 'false',\n",
    "    'facet': 'true',\n",
    "    'facet.sort': 'index',\n",
    "    'facet.limit': -1,\n",
    "    'facet.field': [\"extras_TemporalCoverageBeginDate\", \"extras_TemporalCoverageEndDate\"]\n",
    "}"
   ]
  },
  {
   "cell_type": "code",
   "execution_count": null,
   "id": "1a36fe26-e836-400d-9f5c-afef17f9e9b7",
   "metadata": {},
   "outputs": [],
   "source": [
    "solr = pysolr.Solr(url)"
   ]
  },
  {
   "cell_type": "code",
   "execution_count": null,
   "id": "c3e2be6c-20aa-4307-b46d-6e9aa79658eb",
   "metadata": {},
   "outputs": [],
   "source": [
    "results = solr.search(**solr_params)"
   ]
  },
  {
   "cell_type": "code",
   "execution_count": null,
   "id": "11bb7b78-048a-426a-a892-7d69d73930d4",
   "metadata": {},
   "outputs": [],
   "source": [
    "# results.facets[\"facet_fields\"][\"extras_TemporalCoverageBeginDate\"]"
   ]
  },
  {
   "cell_type": "code",
   "execution_count": null,
   "id": "9e70f9b5-3f62-4e14-a29e-cd11e40e91ca",
   "metadata": {},
   "outputs": [],
   "source": [
    "result_begin_counts = results.facets[\"facet_fields\"][\"extras_TemporalCoverageBeginDate\"]\n",
    "x_begin = result_begin_counts[0::2]\n",
    "y_end = result_begin_counts[1::2]\n"
   ]
  },
  {
   "cell_type": "code",
   "execution_count": null,
   "id": "d79ff2db-4e6f-4060-bc03-24f9a1418e8f",
   "metadata": {},
   "outputs": [],
   "source": [
    "df_begin = pd.DataFrame(list(zip(x_begin, y_end)), columns =['date', 'counts'])\n",
    "df_begin"
   ]
  },
  {
   "cell_type": "code",
   "execution_count": null,
   "id": "2fa4d398-7d9c-456e-b78f-f6649cc730f7",
   "metadata": {},
   "outputs": [],
   "source": [
    "df_begin[\"date\"]=df_begin[\"date\"].str[:-16]\n",
    "df_begin[\"date\"]=pd.to_numeric(df_begin[\"date\"], downcast=\"signed\")\n",
    "df_begin"
   ]
  },
  {
   "cell_type": "code",
   "execution_count": null,
   "id": "a801e28e-4629-4b21-a0e2-578e7695fe16",
   "metadata": {},
   "outputs": [],
   "source": [
    "df_begin = df_begin.groupby(pd.Grouper(key=\"date\")).sum()\n",
    "df_begin"
   ]
  },
  {
   "cell_type": "code",
   "execution_count": null,
   "id": "b22fe83a-19a8-44d2-b294-4814eb694f21",
   "metadata": {},
   "outputs": [],
   "source": [
    "from bokeh.io import show\n",
    "from bokeh.layouts import column\n",
    "from bokeh.models import ColumnDataSource, RangeTool\n",
    "from bokeh.plotting import figure\n",
    "\n",
    "source = ColumnDataSource(df_begin[250:300])\n",
    "\n",
    "p = figure(plot_height=300, plot_width=800, toolbar_location=None,\n",
    "           # x_axis_type=\"datetime\", \n",
    "           #x_axis_location=\"above\",\n",
    "           #y_axis_type=\"log\",\n",
    "           #y_range=(1.0, 10**5),\n",
    "           background_fill_color=\"#efefef\")\n",
    "\n",
    "p.line('date', 'counts', source=source)\n",
    "p.yaxis.axis_label = 'Number of Datasets per Year'\n",
    "\n",
    "show(p)"
   ]
  },
  {
   "cell_type": "code",
   "execution_count": null,
   "id": "3ec32001-7b78-41ab-b7ae-84d5e0e0b69d",
   "metadata": {},
   "outputs": [],
   "source": []
  }
 ],
 "metadata": {
  "kernelspec": {
   "display_name": "Python 3",
   "language": "python",
   "name": "python3"
  },
  "language_info": {
   "codemirror_mode": {
    "name": "ipython",
    "version": 3
   },
   "file_extension": ".py",
   "mimetype": "text/x-python",
   "name": "python",
   "nbconvert_exporter": "python",
   "pygments_lexer": "ipython3",
   "version": "3.6.13"
  }
 },
 "nbformat": 4,
 "nbformat_minor": 5
}
