{
 "cells": [
  {
   "cell_type": "code",
   "execution_count": null,
   "id": "1c8370be-07c7-4283-bbd4-6e378305f716",
   "metadata": {},
   "outputs": [],
   "source": [
    "import requests\n",
    "import pandas as pd\n",
    "import pysolr"
   ]
  },
  {
   "cell_type": "code",
   "execution_count": null,
   "id": "2597d272-a972-4b92-a259-416fbae646f8",
   "metadata": {},
   "outputs": [],
   "source": [
    "url = \"http://b2find.eudat.eu/solr/\"\n",
    "# url = \"http://eudat8.dkrz.de/solr/\"\n"
   ]
  },
  {
   "cell_type": "code",
   "execution_count": null,
   "id": "c2631ad7-d710-49ac-b3c4-4f156839b8bf",
   "metadata": {},
   "outputs": [],
   "source": [
    "import time\n",
    "years = year = 60 * 60 * 24 * 365\n",
    "year1epochsec = 62135600400\n",
    "now = year1epochsec + int(time.time())\n",
    "\n",
    "facet = \"extras_TempCoverageBegin\"\n",
    "#facet = \"extras_TempCoverageEnd\"\n",
    "min = now-10*years\n",
    "max = now+10*years\n",
    "num_intervals=100\n",
    "interval=int((max-min)/num_intervals)\n",
    "interval"
   ]
  },
  {
   "cell_type": "code",
   "execution_count": null,
   "id": "207b6f09-93ed-4250-bcde-0d9f43291b4e",
   "metadata": {},
   "outputs": [],
   "source": [
    "solr_params = {\n",
    "    'echoParams': 'none',\n",
    "    'rows': 0,\n",
    "    'wt': 'json',\n",
    "    'q': '*',\n",
    "    'facet': 'false',\n",
    "    'indent': 'false',\n",
    "    'fl': 'id',\n",
    "    'group': 'true',\n",
    "    'group.limit': 1,\n",
    "    'group.query': []\n",
    "}"
   ]
  },
  {
   "cell_type": "code",
   "execution_count": null,
   "id": "2d6ec42b-9d39-468b-b841-78caa80ab6af",
   "metadata": {},
   "outputs": [],
   "source": [
    "query = 'extras_TempCoverageBegin:[* TO {end}] AND extras_TempCoverageEnd:[{start} TO *]'"
   ]
  },
  {
   "cell_type": "code",
   "execution_count": null,
   "id": "13f1b41c-b2fd-45d9-ad32-2c3950f94ec0",
   "metadata": {},
   "outputs": [],
   "source": [
    "x = []\n",
    "y = []\n",
    "\n",
    "for i in range(num_intervals):\n",
    "    start = int(min + i * interval)\n",
    "    end = int(min + (i+1) * interval)\n",
    "    group_query = query.format(start=start, end=end)\n",
    "    solr_params[\"group.query\"].append(group_query)\n",
    "    x.append(start-year1epochsec)"
   ]
  },
  {
   "cell_type": "code",
   "execution_count": null,
   "id": "98ea8a4c-8166-49bf-8252-84a1f8a7de4e",
   "metadata": {},
   "outputs": [],
   "source": [
    "solr = pysolr.Solr(url)"
   ]
  },
  {
   "cell_type": "code",
   "execution_count": null,
   "id": "d5756ec7-24b7-4990-b07c-607f341a2aa9",
   "metadata": {},
   "outputs": [],
   "source": [
    "results = solr.search(**solr_params)\n",
    "results"
   ]
  },
  {
   "cell_type": "code",
   "execution_count": null,
   "id": "5d9ed1ad-583c-4a35-bbd2-ed8a1252ce67",
   "metadata": {},
   "outputs": [],
   "source": [
    "for val in results.grouped.values():\n",
    "    num_found = val['doclist']['numFound']\n",
    "    y.append(num_found)"
   ]
  },
  {
   "cell_type": "code",
   "execution_count": null,
   "id": "d3860ae7-4cdd-46ea-a2d8-24ae0d1667ad",
   "metadata": {},
   "outputs": [],
   "source": [
    "df = pd.DataFrame(list(zip(x, y)),\n",
    "               columns =['start', 'counts'])\n",
    "df"
   ]
  },
  {
   "cell_type": "code",
   "execution_count": null,
   "id": "2b4e0d4f-330d-4e3e-82b8-5081ec3001e1",
   "metadata": {},
   "outputs": [],
   "source": [
    "df[\"start\"]=pd.to_datetime(df[\"start\"],unit=\"s\")\n",
    "df"
   ]
  },
  {
   "cell_type": "code",
   "execution_count": null,
   "id": "7e1f5e49-4717-4368-a143-755f46a18d7d",
   "metadata": {},
   "outputs": [],
   "source": [
    "from bokeh.io import show\n",
    "from bokeh.layouts import column\n",
    "from bokeh.models import ColumnDataSource, RangeTool\n",
    "from bokeh.plotting import figure\n",
    "\n",
    "source = ColumnDataSource(df)\n",
    "\n",
    "p = figure(plot_height=300, plot_width=800, tools=\"xpan\", toolbar_location=None,\n",
    "           x_axis_type=\"datetime\", x_axis_location=\"above\",\n",
    "           background_fill_color=\"#efefef\", x_range=(df.start.loc[0], df.start.loc[20]))\n",
    "\n",
    "p.line('start', 'counts', source=source)\n",
    "p.yaxis.axis_label = 'datasets'\n",
    "\n",
    "select = figure(title=\"Drag the middle and edges of the selection box to change the range above\",\n",
    "                plot_height=130, plot_width=800, y_range=p.y_range,\n",
    "                x_axis_type=\"datetime\", y_axis_type=None,\n",
    "                tools=\"\", toolbar_location=None, background_fill_color=\"#efefef\")\n",
    "\n",
    "range_tool = RangeTool(x_range=p.x_range)\n",
    "range_tool.overlay.fill_color = \"navy\"\n",
    "range_tool.overlay.fill_alpha = 0.2\n",
    "\n",
    "select.line('start', 'counts', source=source)\n",
    "select.ygrid.grid_line_color = None\n",
    "select.add_tools(range_tool)\n",
    "select.toolbar.active_multi = range_tool\n",
    "\n",
    "show(column(p, select))"
   ]
  }
 ],
 "metadata": {
  "kernelspec": {
   "display_name": "Python 3",
   "language": "python",
   "name": "python3"
  },
  "language_info": {
   "codemirror_mode": {
    "name": "ipython",
    "version": 3
   },
   "file_extension": ".py",
   "mimetype": "text/x-python",
   "name": "python",
   "nbconvert_exporter": "python",
   "pygments_lexer": "ipython3",
   "version": "3.6.13"
  }
 },
 "nbformat": 4,
 "nbformat_minor": 5
}
