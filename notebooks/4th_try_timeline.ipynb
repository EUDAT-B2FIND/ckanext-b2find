{
 "cells": [
  {
   "cell_type": "code",
   "execution_count": null,
   "id": "1c8370be-07c7-4283-bbd4-6e378305f716",
   "metadata": {},
   "outputs": [],
   "source": [
    "import requests\n",
    "import pandas as pd"
   ]
  },
  {
   "cell_type": "code",
   "execution_count": null,
   "id": "2597d272-a972-4b92-a259-416fbae646f8",
   "metadata": {},
   "outputs": [],
   "source": [
    "url = \"http://b2find.eudat.eu/solr/select\"\n",
    "# url = \"http://localhost:5000/solr/select\"\n"
   ]
  },
  {
   "cell_type": "code",
   "execution_count": null,
   "id": "c2631ad7-d710-49ac-b3c4-4f156839b8bf",
   "metadata": {},
   "outputs": [],
   "source": [
    "import time\n",
    "years = year = 60 * 60 * 24 * 365\n",
    "year1epochsec = 62135600400\n",
    "now = year1epochsec + int(time.time())\n",
    "\n",
    "facet = \"extras_TempCoverageBegin\"\n",
    "# facet = \"extras_TempCoverageEnd\"\n",
    "min_range = now-50*years\n",
    "max_range = now+30*years\n",
    "interval = 1*year\n",
    "interval"
   ]
  },
  {
   "cell_type": "code",
   "execution_count": null,
   "id": "207b6f09-93ed-4250-bcde-0d9f43291b4e",
   "metadata": {},
   "outputs": [],
   "source": [
    "solr_params = {\n",
    "    'echoParams': 'none',\n",
    "    'rows': 0,\n",
    "    'wt': 'json',\n",
    "    'q': '*',\n",
    "    'fq': f'{{!frange l=0}} sub(extras_TempCoverageEnd,extras_TempCoverageBegin)',\n",
    "    'facet': 'true',\n",
    "    'facet.sort': 'index',\n",
    "    'facet.limit': -1,\n",
    "    'indent': 'false',\n",
    "    'facet.range':[\n",
    "        facet, \n",
    "    ],\n",
    "    'facet.range.start': min_range,\n",
    "    'facet.range.end': max_range,\n",
    "    'facet.range.gap': interval,\n",
    "}"
   ]
  },
  {
   "cell_type": "code",
   "execution_count": null,
   "id": "b4fd54c4-081d-49d6-b500-b409d7946bed",
   "metadata": {},
   "outputs": [],
   "source": [
    "import time\n",
    "run_start = time.time()\n",
    "\n",
    "resp = requests.post(url, data=solr_params)\n",
    "run_end = time.time() - run_start\n",
    "print(resp.ok, run_end)"
   ]
  },
  {
   "cell_type": "code",
   "execution_count": null,
   "id": "c5019c28-39b9-458b-b5b2-20da2b08cdf0",
   "metadata": {},
   "outputs": [],
   "source": [
    "result = resp.json()\n",
    "result_begin = result[\"facet_counts\"][\"facet_ranges\"][facet][\"counts\"]\n",
    "x_begin = result_begin[0::2]\n",
    "y = result_begin[1::2]\n",
    "x = [int(i)-year1epochsec for i in x_begin]\n"
   ]
  },
  {
   "cell_type": "code",
   "execution_count": null,
   "id": "d3860ae7-4cdd-46ea-a2d8-24ae0d1667ad",
   "metadata": {},
   "outputs": [],
   "source": [
    "df = pd.DataFrame(list(zip(x, y)),\n",
    "               columns =['start', 'counts'])\n",
    "df"
   ]
  },
  {
   "cell_type": "code",
   "execution_count": null,
   "id": "2b4e0d4f-330d-4e3e-82b8-5081ec3001e1",
   "metadata": {},
   "outputs": [],
   "source": [
    "df[\"start\"]=pd.to_datetime(df[\"start\"],unit=\"s\")\n",
    "df"
   ]
  },
  {
   "cell_type": "code",
   "execution_count": null,
   "id": "7e1f5e49-4717-4368-a143-755f46a18d7d",
   "metadata": {},
   "outputs": [],
   "source": [
    "from bokeh.io import show\n",
    "from bokeh.layouts import column\n",
    "from bokeh.models import ColumnDataSource, RangeTool\n",
    "from bokeh.plotting import figure\n",
    "\n",
    "source = ColumnDataSource(df)\n",
    "\n",
    "p = figure(plot_height=300, plot_width=800, tools=\"xpan\", toolbar_location=None,\n",
    "           x_axis_type=\"datetime\", x_axis_location=\"above\",\n",
    "           background_fill_color=\"#efefef\", x_range=(df.start.loc[0], df.start.loc[50]))\n",
    "\n",
    "p.line('start', 'counts', source=source)\n",
    "p.yaxis.axis_label = 'datasets'\n",
    "\n",
    "select = figure(title=\"Drag the middle and edges of the selection box to change the range above\",\n",
    "                plot_height=130, plot_width=800, y_range=p.y_range,\n",
    "                x_axis_type=\"datetime\", y_axis_type=None,\n",
    "                tools=\"\", toolbar_location=None, background_fill_color=\"#efefef\")\n",
    "\n",
    "range_tool = RangeTool(x_range=p.x_range)\n",
    "range_tool.overlay.fill_color = \"navy\"\n",
    "range_tool.overlay.fill_alpha = 0.2\n",
    "\n",
    "select.line('start', 'counts', source=source)\n",
    "select.ygrid.grid_line_color = None\n",
    "select.add_tools(range_tool)\n",
    "select.toolbar.active_multi = range_tool\n",
    "\n",
    "show(column(p, select))"
   ]
  }
 ],
 "metadata": {
  "kernelspec": {
   "display_name": "Python 3",
   "language": "python",
   "name": "python3"
  },
  "language_info": {
   "codemirror_mode": {
    "name": "ipython",
    "version": 3
   },
   "file_extension": ".py",
   "mimetype": "text/x-python",
   "name": "python",
   "nbconvert_exporter": "python",
   "pygments_lexer": "ipython3",
   "version": "3.6.13"
  }
 },
 "nbformat": 4,
 "nbformat_minor": 5
}
