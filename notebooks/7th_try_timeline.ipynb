{
 "cells": [
  {
   "cell_type": "code",
   "execution_count": null,
   "id": "1c8370be-07c7-4283-bbd4-6e378305f716",
   "metadata": {},
   "outputs": [],
   "source": [
    "import pandas as pd\n",
    "import pysolr\n"
   ]
  },
  {
   "cell_type": "code",
   "execution_count": null,
   "id": "2597d272-a972-4b92-a259-416fbae646f8",
   "metadata": {},
   "outputs": [],
   "source": [
    "# url = \"http://b2find.eudat.eu/solr/select\"\n",
    "url = \"http://localhost:8983/solr/ckan\"\n",
    "\n",
    "solr = pysolr.Solr(url)"
   ]
  },
  {
   "cell_type": "code",
   "execution_count": null,
   "id": "e39ba32f-d244-4abf-bec5-3d0ccf99de9e",
   "metadata": {},
   "outputs": [],
   "source": [
    "# Solr temporal coverage begin\n",
    "facet = \"extras_TemporalCoverageBeginDate\"\n",
    "solr_params = {\n",
    "    'echoParams': 'none',\n",
    "    'rows': 1,\n",
    "    'wt': 'json',\n",
    "    'q': '*',\n",
    "     'fq': f\"{facet}:[* TO *]\",\n",
    "     'fl': facet,\n",
    "    'sort': f\"{facet} asc\",\n",
    "    'indent': 'false',\n",
    "}\n",
    "results = solr.search(**solr_params)\n",
    "start = results.docs[0][facet]\n",
    "start"
   ]
  },
  {
   "cell_type": "code",
   "execution_count": null,
   "id": "1742ccfe-91fa-4621-b8f8-56ae71b0b980",
   "metadata": {},
   "outputs": [],
   "source": [
    "# Solr temporal coverage end\n",
    "facet = \"extras_TemporalCoverageEndDate\"\n",
    "solr_params = {\n",
    "    'echoParams': 'none',\n",
    "    'rows': 1,\n",
    "    'wt': 'json',\n",
    "    'q': '*',\n",
    "     'fq': f\"{facet}:[* TO *]\",\n",
    "     'fl': facet,\n",
    "    'sort': f\"{facet} desc\",\n",
    "    'indent': 'false',\n",
    "}\n",
    "results = solr.search(**solr_params)\n",
    "end = results.docs[0][facet]\n",
    "end"
   ]
  },
  {
   "cell_type": "markdown",
   "id": "11d2fe0a-9035-472c-bd36-ee490c63f228",
   "metadata": {},
   "source": [
    "## Solr date range field\n",
    "\n",
    "https://solr.apache.org/guide/6_6/working-with-dates.html"
   ]
  },
  {
   "cell_type": "code",
   "execution_count": null,
   "id": "207b6f09-93ed-4250-bcde-0d9f43291b4e",
   "metadata": {},
   "outputs": [],
   "source": [
    "facet = \"extras_TempCoverage\"\n",
    "\n",
    "solr_params = {\n",
    "    'echoParams': 'none',\n",
    "    'rows': 0,\n",
    "    'wt': 'json',\n",
    "    'q': '*',\n",
    "    'facet': 'true',\n",
    "    'facet.range':[\n",
    "        facet, \n",
    "    ],\n",
    "    'facet.range.start': f'{start}/YEAR',\n",
    "    'facet.range.end': f'{end}/YEAR',\n",
    "    'facet.range.gap': '+1YEARS',\n",
    "}"
   ]
  },
  {
   "cell_type": "code",
   "execution_count": null,
   "id": "039c1524-485f-45b2-89c7-072397f6882d",
   "metadata": {},
   "outputs": [],
   "source": [
    "solr = pysolr.Solr(url)"
   ]
  },
  {
   "cell_type": "code",
   "execution_count": null,
   "id": "b4fd54c4-081d-49d6-b500-b409d7946bed",
   "metadata": {},
   "outputs": [],
   "source": [
    "import time\n",
    "run_start = time.time()\n",
    "\n",
    "results = solr.search(**solr_params)\n",
    "\n",
    "run_end = time.time() - run_start\n",
    "run_end"
   ]
  },
  {
   "cell_type": "code",
   "execution_count": null,
   "id": "33475422-7b37-4d12-b8d8-d65e1f6bf63c",
   "metadata": {},
   "outputs": [],
   "source": [
    "# results.facets"
   ]
  },
  {
   "cell_type": "code",
   "execution_count": null,
   "id": "c5019c28-39b9-458b-b5b2-20da2b08cdf0",
   "metadata": {},
   "outputs": [],
   "source": [
    "result_counts = results.facets[\"facet_ranges\"][facet][\"counts\"]\n",
    "x = result_counts[0::2]\n",
    "y = result_counts[1::2]\n"
   ]
  },
  {
   "cell_type": "code",
   "execution_count": null,
   "id": "e4f017b6-8f91-4c36-8853-5a566824e135",
   "metadata": {},
   "outputs": [],
   "source": [
    "start = list(map(lambda val: val>0, y)).index(True)\n",
    "start"
   ]
  },
  {
   "cell_type": "code",
   "execution_count": null,
   "id": "45a1be41-b16f-4d15-9118-6c1b6a0e709e",
   "metadata": {},
   "outputs": [],
   "source": [
    "end = list(map(lambda val: val>0, reversed(y))).index(True)\n",
    "end = len(y) - end\n",
    "end"
   ]
  },
  {
   "cell_type": "code",
   "execution_count": null,
   "id": "e7d38fe8-3fa5-4263-a2e0-5fe503c3f1f9",
   "metadata": {},
   "outputs": [],
   "source": [
    "x = x[start:end]\n",
    "y = y[start:end]"
   ]
  },
  {
   "cell_type": "code",
   "execution_count": null,
   "id": "d3860ae7-4cdd-46ea-a2d8-24ae0d1667ad",
   "metadata": {},
   "outputs": [],
   "source": [
    "df = pd.DataFrame(list(zip(x, y)), columns =['date', 'counts'])\n",
    "df"
   ]
  },
  {
   "cell_type": "code",
   "execution_count": null,
   "id": "2b4e0d4f-330d-4e3e-82b8-5081ec3001e1",
   "metadata": {},
   "outputs": [],
   "source": [
    "#df[\"date\"]=df[\"date\"].str.split(pat=\"-01-01T\", n=1, expand=True)\n",
    "df[\"date\"]=df[\"date\"].str[:-16]\n",
    "df[\"date\"]=pd.to_numeric(df[\"date\"], downcast=\"signed\")\n",
    "df"
   ]
  },
  {
   "cell_type": "code",
   "execution_count": null,
   "id": "7e1f5e49-4717-4368-a143-755f46a18d7d",
   "metadata": {},
   "outputs": [],
   "source": [
    "from bokeh.io import show\n",
    "from bokeh.layouts import column\n",
    "from bokeh.models import ColumnDataSource, RangeTool\n",
    "from bokeh.plotting import figure\n",
    "\n",
    "source = ColumnDataSource(df)\n",
    "\n",
    "\n",
    "\n",
    "select = figure(title=\"Temporal Coverage\",\n",
    "                plot_height=130, plot_width=800, \n",
    "                y_axis_type=None,\n",
    "                tools=\"\", toolbar_location=None, \n",
    "                background_fill_color=\"#efefef\")\n",
    "\n",
    "\n",
    "select.line('date', 'counts', source=source)\n",
    "select.ygrid.grid_line_color = None\n",
    "\n",
    "show(select)"
   ]
  }
 ],
 "metadata": {
  "kernelspec": {
   "display_name": "Python 3",
   "language": "python",
   "name": "python3"
  },
  "language_info": {
   "codemirror_mode": {
    "name": "ipython",
    "version": 3
   },
   "file_extension": ".py",
   "mimetype": "text/x-python",
   "name": "python",
   "nbconvert_exporter": "python",
   "pygments_lexer": "ipython3",
   "version": "3.6.13"
  }
 },
 "nbformat": 4,
 "nbformat_minor": 5
}
