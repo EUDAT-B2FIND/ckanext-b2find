{
 "cells": [
  {
   "cell_type": "code",
   "execution_count": null,
   "id": "e26e34bf-1093-4021-adbf-95278c91eec7",
   "metadata": {},
   "outputs": [],
   "source": [
    "import pandas as pd\n",
    "import pysolr"
   ]
  },
  {
   "cell_type": "code",
   "execution_count": null,
   "id": "f112ce48-5487-4e06-96fb-0efbe0a4166b",
   "metadata": {},
   "outputs": [],
   "source": [
    "# url = \"http://b2find.eudat.eu/solr/select\"\n",
    "url = \"http://localhost:8983/solr/ckan\"\n",
    "\n",
    "solr = pysolr.Solr(url)"
   ]
  },
  {
   "cell_type": "code",
   "execution_count": null,
   "id": "2d6de066-af01-4ff0-9980-cf8662bb0b03",
   "metadata": {},
   "outputs": [],
   "source": [
    "b2f_facet_map = dict(\n",
    "    communities=\"groups\",\n",
    "    keywords=\"tags\",\n",
    "    creator=\"author\",\n",
    "    instrument=\"extras_Instrument\",\n",
    "    discipline=\"extras_Discipline\",\n",
    "    language=\"extras_Language\",\n",
    "    publisher=\"extras_Publisher\",\n",
    "    contributor=\"extras_Contributor\",\n",
    "    resourcetype=\"extras_ResourceType\",\n",
    "    openaccess=\"extras_OpenAccess\",\n",
    ")"
   ]
  },
  {
   "cell_type": "code",
   "execution_count": null,
   "id": "013222a3-5cd7-42a1-b527-83ab805f126c",
   "metadata": {},
   "outputs": [],
   "source": [
    "facet = b2f_facet_map.get(\"creator\")\n",
    "facet_sort = \"count\"\n",
    "facet_sort_ascending = False\n",
    "facet_limit = 10\n",
    "facet_filter = \"ursul\"\n",
    "\n",
    "solr_params = {\n",
    "        'echoParams': 'none',\n",
    "        'rows': 0,\n",
    "        'wt': 'json',\n",
    "        'q': '*',\n",
    "        # 'fq': '',\n",
    "        'facet': 'true',\n",
    "        'facet.contains': facet_filter,\n",
    "        'facet.contains.ignoreCase': 'true',\n",
    "        'facet.sort': facet_sort,\n",
    "        'facet.limit': facet_limit,\n",
    "        'facet.mincount': 1,\n",
    "        'facet.field': [\n",
    "            f'{facet}',\n",
    "        ],\n",
    "    }"
   ]
  },
  {
   "cell_type": "code",
   "execution_count": null,
   "id": "8b8b7367-e048-4bab-a4dd-0f9444baeeca",
   "metadata": {},
   "outputs": [],
   "source": [
    "search_results = solr.search(**solr_params)\n"
   ]
  },
  {
   "cell_type": "code",
   "execution_count": null,
   "id": "b454e91b-4f31-49c2-b848-7ad701db564d",
   "metadata": {},
   "outputs": [],
   "source": [
    "values = search_results.facets['facet_fields'][facet]\n",
    "labels = values[0::2]\n",
    "counts = values[1::2]"
   ]
  },
  {
   "cell_type": "code",
   "execution_count": null,
   "id": "e45b08ae-9058-49f8-bed3-201d765b164f",
   "metadata": {},
   "outputs": [],
   "source": [
    "df = pd.DataFrame(list(zip(labels, counts)), columns=['label', 'count'])\n",
    "df"
   ]
  },
  {
   "cell_type": "code",
   "execution_count": null,
   "id": "685c8ab6-c03d-4173-94ff-da2bfcd63ddd",
   "metadata": {},
   "outputs": [],
   "source": [
    "df['label_downcase'] = df.label.str.lower()\n",
    "df"
   ]
  },
  {
   "cell_type": "code",
   "execution_count": null,
   "id": "2b552e81-58c9-47d4-9549-86260d9faaaf",
   "metadata": {},
   "outputs": [],
   "source": [
    "if facet_sort == \"count\":\n",
    "    df.sort_values(by=['count', 'label_downcase'], inplace=True, ascending=facet_sort_ascending)\n",
    "else:\n",
    "    df.sort_values(by=['label_downcase'], inplace=True, ascending=True)\n",
    "df"
   ]
  },
  {
   "cell_type": "code",
   "execution_count": null,
   "id": "9a10396d-5dc7-467f-b2b4-18678e275818",
   "metadata": {},
   "outputs": [],
   "source": [
    "df['label_truncated'] = df.label.str.slice(0, 22)"
   ]
  },
  {
   "cell_type": "code",
   "execution_count": null,
   "id": "bb41ec27-1f6f-429a-be36-cb5407a635b3",
   "metadata": {},
   "outputs": [],
   "source": [
    "out = df[['label', 'count', 'label_truncated']].iloc[:facet_limit].to_json(orient=\"records\", indent=4)\n",
    "print(out)"
   ]
  }
 ],
 "metadata": {
  "kernelspec": {
   "display_name": "Python 3 (ipykernel)",
   "language": "python",
   "name": "python3"
  },
  "language_info": {
   "codemirror_mode": {
    "name": "ipython",
    "version": 3
   },
   "file_extension": ".py",
   "mimetype": "text/x-python",
   "name": "python",
   "nbconvert_exporter": "python",
   "pygments_lexer": "ipython3",
   "version": "3.9.6"
  }
 },
 "nbformat": 4,
 "nbformat_minor": 5
}
