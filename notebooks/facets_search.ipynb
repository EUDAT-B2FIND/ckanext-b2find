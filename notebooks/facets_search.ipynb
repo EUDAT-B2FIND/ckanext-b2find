{
 "cells": [
  {
   "cell_type": "code",
   "execution_count": null,
   "id": "e26e34bf-1093-4021-adbf-95278c91eec7",
   "metadata": {},
   "outputs": [],
   "source": [
    "import pandas as pd\n",
    "import pysolr"
   ]
  },
  {
   "cell_type": "code",
   "execution_count": null,
   "id": "f112ce48-5487-4e06-96fb-0efbe0a4166b",
   "metadata": {},
   "outputs": [],
   "source": [
    "# url = \"http://b2find.eudat.eu/solr/select\"\n",
    "url = \"http://localhost:8983/solr/ckan\"\n",
    "\n",
    "solr = pysolr.Solr(url)"
   ]
  },
  {
   "cell_type": "raw",
   "id": "3c386da2-420f-47ce-b79a-5bc9fd9c5e86",
   "metadata": {},
   "source": [
    " 'tags',\n",
    "            'groups',\n",
    "            'extras_Publisher',\n",
    "            'extras_Language',\n",
    "            'extras_Discipline',\n",
    "            'extras_Contributor',\n",
    "            'extras_ResourceType',\n",
    "            'extras_OpenAccess',\n",
    "            'extras_Instrument',"
   ]
  },
  {
   "cell_type": "code",
   "execution_count": null,
   "id": "013222a3-5cd7-42a1-b527-83ab805f126c",
   "metadata": {},
   "outputs": [],
   "source": [
    "solr_params = {\n",
    "        'echoParams': 'none',\n",
    "        'rows': 0,\n",
    "        'wt': 'json',\n",
    "        'q': '*',\n",
    "        # 'fq': '',\n",
    "        'facet': 'true',\n",
    "        'facet.sort': 'count',\n",
    "        'facet.limit': -1,\n",
    "        'facet.mincount': 1,\n",
    "        'facet.field': [\n",
    "            'author',\n",
    "        ],\n",
    "    }"
   ]
  },
  {
   "cell_type": "code",
   "execution_count": null,
   "id": "8b8b7367-e048-4bab-a4dd-0f9444baeeca",
   "metadata": {},
   "outputs": [],
   "source": [
    "search_results = solr.search(**solr_params)\n"
   ]
  },
  {
   "cell_type": "raw",
   "id": "2b94bc78-b1a1-4d7b-9bd1-bcf8c0adbf4c",
   "metadata": {},
   "source": [
    "result = dict(\n",
    "    communities=dict(name=\"groups\", data=[]),\n",
    "    keywords=dict(name=\"tags\", data=[]),\n",
    "    creator=dict(name=\"author\", data=[]),\n",
    "    instrument=dict(name=\"extras_Instrument\", data=[]),\n",
    "    discipline=dict(name=\"extras_Discipline\", data=[]),\n",
    "    language=dict(name=\"extras_Language\", data=[]),\n",
    "    publisher=dict(name=\"extras_Publisher\", data=[]),\n",
    "    contributor=dict(name=\"extras_Contributor\", data=[]),\n",
    "    resourcetype=dict(name=\"extras_ResourceType\", data=[]),\n",
    "    openaccess=dict(name=\"extras_OpenAccess\", data=[]),\n",
    ")\n",
    "\n",
    "\n",
    "    values = search_results.facets['facet_fields'][result[key]['name']]\n",
    "    labels = values[0::2]\n",
    "    counts = values[1::2]\n",
    "   "
   ]
  },
  {
   "cell_type": "code",
   "execution_count": null,
   "id": "b454e91b-4f31-49c2-b848-7ad701db564d",
   "metadata": {},
   "outputs": [],
   "source": [
    "values = search_results.facets['facet_fields']['author']\n",
    "labels = values[0::2]\n",
    "counts = values[1::2]"
   ]
  },
  {
   "cell_type": "code",
   "execution_count": null,
   "id": "af464544-5602-4fc0-829d-b7bc1de313ef",
   "metadata": {},
   "outputs": [],
   "source": [
    "import pandas as pd"
   ]
  },
  {
   "cell_type": "code",
   "execution_count": null,
   "id": "e45b08ae-9058-49f8-bed3-201d765b164f",
   "metadata": {},
   "outputs": [],
   "source": [
    "df = pd.DataFrame(list(zip(labels, counts)), columns=['label', 'count'])\n",
    "df"
   ]
  },
  {
   "cell_type": "code",
   "execution_count": null,
   "id": "685c8ab6-c03d-4173-94ff-da2bfcd63ddd",
   "metadata": {},
   "outputs": [],
   "source": [
    "df['label_downcase'] = df.label.str.lower()\n",
    "df['label_truncated'] = df.label.str.slice(0, 22)\n",
    "df"
   ]
  },
  {
   "cell_type": "code",
   "execution_count": null,
   "id": "2b552e81-58c9-47d4-9549-86260d9faaaf",
   "metadata": {},
   "outputs": [],
   "source": [
    "df.sort_values(by=['count', 'label_downcase'], inplace=True, ascending=False)\n",
    "df"
   ]
  },
  {
   "cell_type": "code",
   "execution_count": null,
   "id": "697d8b46-f346-4ef2-a2f7-9c15a9a9adf1",
   "metadata": {},
   "outputs": [],
   "source": [
    "df.sort_values(by=['label_downcase'], inplace=True, ascending=True)\n",
    "df"
   ]
  }
 ],
 "metadata": {
  "kernelspec": {
   "display_name": "Python 3 (ipykernel)",
   "language": "python",
   "name": "python3"
  },
  "language_info": {
   "codemirror_mode": {
    "name": "ipython",
    "version": 3
   },
   "file_extension": ".py",
   "mimetype": "text/x-python",
   "name": "python",
   "nbconvert_exporter": "python",
   "pygments_lexer": "ipython3",
   "version": "3.9.6"
  }
 },
 "nbformat": 4,
 "nbformat_minor": 5
}
