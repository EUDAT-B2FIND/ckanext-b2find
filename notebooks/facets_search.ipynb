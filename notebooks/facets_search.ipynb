{
 "cells": [
  {
   "cell_type": "code",
   "execution_count": null,
   "id": "e26e34bf-1093-4021-adbf-95278c91eec7",
   "metadata": {},
   "outputs": [],
   "source": [
    "import pandas as pd\n",
    "import pysolr"
   ]
  },
  {
   "cell_type": "code",
   "execution_count": null,
   "id": "f112ce48-5487-4e06-96fb-0efbe0a4166b",
   "metadata": {},
   "outputs": [],
   "source": [
    "# url = \"http://b2find.eudat.eu/solr/select\"\n",
    "url = \"http://localhost:8983/solr/ckan\"\n",
    "\n",
    "solr = pysolr.Solr(url)"
   ]
  },
  {
   "cell_type": "code",
   "execution_count": null,
   "id": "013222a3-5cd7-42a1-b527-83ab805f126c",
   "metadata": {},
   "outputs": [],
   "source": [
    "solr_params = {\n",
    "        'echoParams': 'none',\n",
    "        'rows': 0,\n",
    "        'wt': 'json',\n",
    "        'q': '*',\n",
    "        # 'fq': '',\n",
    "        'facet': 'true',\n",
    "        'facet.sort': 'index',\n",
    "        'facet.limit': 100,\n",
    "        'facet.mincount': 1,\n",
    "        'facet.field': [\n",
    "            'author',\n",
    "            'tags',\n",
    "            'groups',\n",
    "            'extras_Publisher',\n",
    "            'extras_Language',\n",
    "            'extras_Discipline',\n",
    "            'extras_Contributor',\n",
    "            'extras_ResourceType',\n",
    "            'extras_OpenAccess',\n",
    "            'extras_Instrument',\n",
    "        ],\n",
    "    }"
   ]
  },
  {
   "cell_type": "code",
   "execution_count": null,
   "id": "8b8b7367-e048-4bab-a4dd-0f9444baeeca",
   "metadata": {},
   "outputs": [],
   "source": [
    "search_results = solr.search(**solr_params)\n"
   ]
  },
  {
   "cell_type": "code",
   "execution_count": null,
   "id": "0d579900-caf1-4162-ac1f-562b226db188",
   "metadata": {},
   "outputs": [],
   "source": [
    "result = dict(\n",
    "    communities=dict(name=\"groups\", data=[]),\n",
    "    keywords=dict(name=\"tags\", data=[]),\n",
    "    creator=dict(name=\"author\", data=[]),\n",
    ")\n",
    "\n",
    "\n",
    "for key in result:\n",
    "    values = search_results.facets['facet_fields'][result[key]['name']]\n",
    "    labels = values[0::2]\n",
    "    counts = values[1::2]\n",
    "    for i in range(len(labels)):\n",
    "        result[key]['data'].append(dict(label=labels[i], count=counts[i]))\n",
    "        \n",
    "result"
   ]
  },
  {
   "cell_type": "code",
   "execution_count": null,
   "id": "af464544-5602-4fc0-829d-b7bc1de313ef",
   "metadata": {},
   "outputs": [],
   "source": []
  }
 ],
 "metadata": {
  "kernelspec": {
   "display_name": "Python 3",
   "language": "python",
   "name": "python3"
  },
  "language_info": {
   "codemirror_mode": {
    "name": "ipython",
    "version": 3
   },
   "file_extension": ".py",
   "mimetype": "text/x-python",
   "name": "python",
   "nbconvert_exporter": "python",
   "pygments_lexer": "ipython3",
   "version": "3.6.13"
  }
 },
 "nbformat": 4,
 "nbformat_minor": 5
}
