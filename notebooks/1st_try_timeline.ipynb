{
 "cells": [
  {
   "cell_type": "code",
   "execution_count": null,
   "id": "f7fb836a-39f7-44a7-8db4-e6ec2d115630",
   "metadata": {},
   "outputs": [],
   "source": [
    "url=\"http://b2find.eudat.eu/solr/select?echoParams=none&rows=0&wt=json&q=*&facet=true&facet.field=extras_TempCoverageBegin&facet.field=extras_TempCoverageBegin&facet.field=extras_TempCoverageEnd&facet.sort=index\""
   ]
  },
  {
   "cell_type": "code",
   "execution_count": null,
   "id": "41b20e10-73f9-410d-83cc-2c8b60048075",
   "metadata": {},
   "outputs": [],
   "source": [
    "import requests"
   ]
  },
  {
   "cell_type": "code",
   "execution_count": null,
   "id": "2a828cfd-23e5-45ab-9836-6e7ba5d88874",
   "metadata": {},
   "outputs": [],
   "source": [
    "response=requests.get(url)"
   ]
  },
  {
   "cell_type": "code",
   "execution_count": null,
   "id": "27c34365-ba1f-48e9-9f03-316be03e773f",
   "metadata": {},
   "outputs": [],
   "source": [
    "counts=response.json()"
   ]
  },
  {
   "cell_type": "code",
   "execution_count": null,
   "id": "5d3913a1-69e2-44d9-8c2d-1a6952988d26",
   "metadata": {},
   "outputs": [],
   "source": [
    "import pandas as pd"
   ]
  },
  {
   "cell_type": "code",
   "execution_count": null,
   "id": "87f1debd-7864-49b7-8fec-30178e3badc8",
   "metadata": {},
   "outputs": [],
   "source": [
    "tempbegin = counts[\"facet_counts\"][\"facet_fields\"][\"extras_TempCoverageBegin\"]"
   ]
  },
  {
   "cell_type": "code",
   "execution_count": null,
   "id": "6f862cc8-5b57-47b7-b650-3bd4c8ec7376",
   "metadata": {},
   "outputs": [],
   "source": [
    "countx = tempbegin[1::2]"
   ]
  },
  {
   "cell_type": "code",
   "execution_count": null,
   "id": "a42d8390-0532-4c73-98ac-0bf47bbc5c99",
   "metadata": {},
   "outputs": [],
   "source": [
    "seconds = tempbegin[::2]"
   ]
  },
  {
   "cell_type": "code",
   "execution_count": null,
   "id": "2169e351-82c2-4b93-a72b-043117e74bae",
   "metadata": {},
   "outputs": [],
   "source": [
    "df = pd.DataFrame(list(zip(seconds, countx)),\n",
    "               columns =['Start', 'Number'])\n",
    "df"
   ]
  },
  {
   "cell_type": "code",
   "execution_count": null,
   "id": "3209235e-7398-491e-bdc4-a0897abe4c8b",
   "metadata": {},
   "outputs": [],
   "source": [
    "df[\"Start\"]=pd.to_datetime(df[\"Start\"],unit=\"ms\")"
   ]
  },
  {
   "cell_type": "code",
   "execution_count": null,
   "id": "2afc2737-c51f-4936-8a79-3ed60028c4ad",
   "metadata": {},
   "outputs": [],
   "source": [
    "import numpy as np\n",
    "\n",
    "from bokeh.io import show\n",
    "from bokeh.layouts import column\n",
    "from bokeh.models import ColumnDataSource, RangeTool\n",
    "from bokeh.plotting import figure\n",
    "from bokeh.sampledata.stocks import AAPL\n",
    "\n",
    "dates = np.array(AAPL['date'], dtype=np.datetime64)\n",
    "source = ColumnDataSource(data=dict(date=dates, close=AAPL['adj_close']))\n",
    "source = ColumnDataSource(df)\n",
    "\n",
    "p = figure(plot_height=300, plot_width=800, tools=\"xpan\", toolbar_location=None,\n",
    "           x_axis_type=\"datetime\", x_axis_location=\"above\",\n",
    "           background_fill_color=\"#efefef\", x_range=(countx[0],countx[10]))\n",
    "\n",
    "p.line('Start', 'Number', source=source)\n",
    "p.yaxis.axis_label = 'datasets'\n",
    "\n",
    "select = figure(title=\"Drag the middle and edges of the selection box to change the range above\",\n",
    "                plot_height=130, plot_width=800, y_range=p.y_range,\n",
    "                x_axis_type=\"datetime\", y_axis_type=None,\n",
    "                tools=\"\", toolbar_location=None, background_fill_color=\"#efefef\")\n",
    "\n",
    "range_tool = RangeTool(x_range=p.x_range)\n",
    "range_tool.overlay.fill_color = \"navy\"\n",
    "range_tool.overlay.fill_alpha = 0.2\n",
    "\n",
    "select.line('Start', 'Number', source=source)\n",
    "select.ygrid.grid_line_color = None\n",
    "select.add_tools(range_tool)\n",
    "select.toolbar.active_multi = range_tool\n",
    "\n",
    "show(column(p, select))\n"
   ]
  },
  {
   "cell_type": "code",
   "execution_count": null,
   "id": "0d763471-8f07-4887-bd5d-0aaca593b11a",
   "metadata": {},
   "outputs": [],
   "source": []
  }
 ],
 "metadata": {
  "kernelspec": {
   "display_name": "Python 3 (ipykernel)",
   "language": "python",
   "name": "python3"
  },
  "language_info": {
   "codemirror_mode": {
    "name": "ipython",
    "version": 3
   },
   "file_extension": ".py",
   "mimetype": "text/x-python",
   "name": "python",
   "nbconvert_exporter": "python",
   "pygments_lexer": "ipython3",
   "version": "3.9.6"
  }
 },
 "nbformat": 4,
 "nbformat_minor": 5
}
